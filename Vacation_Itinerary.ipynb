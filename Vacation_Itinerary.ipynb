{
 "cells": [
  {
   "cell_type": "code",
   "execution_count": 1,
   "metadata": {},
   "outputs": [],
   "source": [
    "# Import the dependencies.\n",
    "import pandas as pd\n",
    "import gmaps\n",
    "import requests\n",
    "# Import the API key.\n",
    "from config import g_key\n",
    "# Configure gmaps to use your Google API key.\n",
    "gmaps.configure(api_key=g_key)\n",
    "import matplotlib.pyplot as plt\n",
    "import gmaps.datasets\n",
    "gmaps.configure(api_key=g_key)"
   ]
  },
  {
   "cell_type": "code",
   "execution_count": 2,
   "metadata": {},
   "outputs": [
    {
     "data": {
      "text/html": [
       "<div>\n",
       "<style scoped>\n",
       "    .dataframe tbody tr th:only-of-type {\n",
       "        vertical-align: middle;\n",
       "    }\n",
       "\n",
       "    .dataframe tbody tr th {\n",
       "        vertical-align: top;\n",
       "    }\n",
       "\n",
       "    .dataframe thead th {\n",
       "        text-align: right;\n",
       "    }\n",
       "</style>\n",
       "<table border=\"1\" class=\"dataframe\">\n",
       "  <thead>\n",
       "    <tr style=\"text-align: right;\">\n",
       "      <th></th>\n",
       "      <th>Unnamed: 0</th>\n",
       "      <th>City</th>\n",
       "      <th>Country</th>\n",
       "      <th>Max Temp</th>\n",
       "      <th>Lat</th>\n",
       "      <th>Lng</th>\n",
       "      <th>Current Weather</th>\n",
       "      <th>Hotel Name</th>\n",
       "    </tr>\n",
       "  </thead>\n",
       "  <tbody>\n",
       "    <tr>\n",
       "      <th>0</th>\n",
       "      <td>1</td>\n",
       "      <td>Esperance</td>\n",
       "      <td>AU</td>\n",
       "      <td>78.80</td>\n",
       "      <td>-33.87</td>\n",
       "      <td>121.90</td>\n",
       "      <td>scattered clouds</td>\n",
       "      <td>Hospitality Esperance</td>\n",
       "    </tr>\n",
       "    <tr>\n",
       "      <th>1</th>\n",
       "      <td>2</td>\n",
       "      <td>Rikitea</td>\n",
       "      <td>PF</td>\n",
       "      <td>79.86</td>\n",
       "      <td>-23.12</td>\n",
       "      <td>-134.97</td>\n",
       "      <td>few clouds</td>\n",
       "      <td>Pension Maro'i</td>\n",
       "    </tr>\n",
       "    <tr>\n",
       "      <th>2</th>\n",
       "      <td>3</td>\n",
       "      <td>Kulhudhuffushi</td>\n",
       "      <td>MV</td>\n",
       "      <td>83.57</td>\n",
       "      <td>6.62</td>\n",
       "      <td>73.07</td>\n",
       "      <td>overcast clouds</td>\n",
       "      <td>Haajy Guest House 1</td>\n",
       "    </tr>\n",
       "    <tr>\n",
       "      <th>3</th>\n",
       "      <td>7</td>\n",
       "      <td>Kapaa</td>\n",
       "      <td>US</td>\n",
       "      <td>80.60</td>\n",
       "      <td>22.08</td>\n",
       "      <td>-159.32</td>\n",
       "      <td>few clouds</td>\n",
       "      <td>Sheraton Kauai Resort at Coconut Beach</td>\n",
       "    </tr>\n",
       "    <tr>\n",
       "      <th>4</th>\n",
       "      <td>8</td>\n",
       "      <td>Nieuw Amsterdam</td>\n",
       "      <td>SR</td>\n",
       "      <td>78.01</td>\n",
       "      <td>5.88</td>\n",
       "      <td>-55.08</td>\n",
       "      <td>scattered clouds</td>\n",
       "      <td>Hotel Stardust</td>\n",
       "    </tr>\n",
       "  </tbody>\n",
       "</table>\n",
       "</div>"
      ],
      "text/plain": [
       "   Unnamed: 0             City Country  Max Temp    Lat     Lng  \\\n",
       "0           1        Esperance      AU     78.80 -33.87  121.90   \n",
       "1           2          Rikitea      PF     79.86 -23.12 -134.97   \n",
       "2           3   Kulhudhuffushi      MV     83.57   6.62   73.07   \n",
       "3           7            Kapaa      US     80.60  22.08 -159.32   \n",
       "4           8  Nieuw Amsterdam      SR     78.01   5.88  -55.08   \n",
       "\n",
       "    Current Weather                              Hotel Name  \n",
       "0  scattered clouds                   Hospitality Esperance  \n",
       "1        few clouds                          Pension Maro'i  \n",
       "2   overcast clouds                     Haajy Guest House 1  \n",
       "3        few clouds  Sheraton Kauai Resort at Coconut Beach  \n",
       "4  scattered clouds                          Hotel Stardust  "
      ]
     },
     "execution_count": 2,
     "metadata": {},
     "output_type": "execute_result"
    }
   ],
   "source": [
    "# Import csv into a DataFrame.\n",
    "travel_data_df = pd.read_csv(\"weather_data_challenge/WeatherPy_vacation.csv\")\n",
    "travel_data_df.head()"
   ]
  },
  {
   "cell_type": "code",
   "execution_count": 3,
   "metadata": {},
   "outputs": [
    {
     "data": {
      "text/html": [
       "<div>\n",
       "<style scoped>\n",
       "    .dataframe tbody tr th:only-of-type {\n",
       "        vertical-align: middle;\n",
       "    }\n",
       "\n",
       "    .dataframe tbody tr th {\n",
       "        vertical-align: top;\n",
       "    }\n",
       "\n",
       "    .dataframe thead th {\n",
       "        text-align: right;\n",
       "    }\n",
       "</style>\n",
       "<table border=\"1\" class=\"dataframe\">\n",
       "  <thead>\n",
       "    <tr style=\"text-align: right;\">\n",
       "      <th></th>\n",
       "      <th>Unnamed: 0</th>\n",
       "      <th>City</th>\n",
       "      <th>Country</th>\n",
       "      <th>Max Temp</th>\n",
       "      <th>Lat</th>\n",
       "      <th>Lng</th>\n",
       "      <th>Current Weather</th>\n",
       "      <th>Hotel Name</th>\n",
       "    </tr>\n",
       "  </thead>\n",
       "  <tbody>\n",
       "    <tr>\n",
       "      <th>109</th>\n",
       "      <td>447</td>\n",
       "      <td>Port Macquarie</td>\n",
       "      <td>AU</td>\n",
       "      <td>79.0</td>\n",
       "      <td>-31.43</td>\n",
       "      <td>152.92</td>\n",
       "      <td>scattered clouds</td>\n",
       "      <td>Rydges Port Macquarie</td>\n",
       "    </tr>\n",
       "    <tr>\n",
       "      <th>49</th>\n",
       "      <td>220</td>\n",
       "      <td>Nelson Bay</td>\n",
       "      <td>AU</td>\n",
       "      <td>77.0</td>\n",
       "      <td>-32.72</td>\n",
       "      <td>152.15</td>\n",
       "      <td>overcast clouds</td>\n",
       "      <td>Mantra Nelson Bay</td>\n",
       "    </tr>\n",
       "    <tr>\n",
       "      <th>51</th>\n",
       "      <td>234</td>\n",
       "      <td>Flinders</td>\n",
       "      <td>AU</td>\n",
       "      <td>78.8</td>\n",
       "      <td>-34.58</td>\n",
       "      <td>150.86</td>\n",
       "      <td>broken clouds</td>\n",
       "      <td>Shellharbour Resort &amp; Conference Centre</td>\n",
       "    </tr>\n",
       "    <tr>\n",
       "      <th>121</th>\n",
       "      <td>502</td>\n",
       "      <td>Ulladulla</td>\n",
       "      <td>AU</td>\n",
       "      <td>78.8</td>\n",
       "      <td>-35.35</td>\n",
       "      <td>150.47</td>\n",
       "      <td>broken clouds</td>\n",
       "      <td>Sandpiper Motel</td>\n",
       "    </tr>\n",
       "  </tbody>\n",
       "</table>\n",
       "</div>"
      ],
      "text/plain": [
       "     Unnamed: 0            City Country  Max Temp    Lat     Lng  \\\n",
       "109         447  Port Macquarie      AU      79.0 -31.43  152.92   \n",
       "49          220      Nelson Bay      AU      77.0 -32.72  152.15   \n",
       "51          234        Flinders      AU      78.8 -34.58  150.86   \n",
       "121         502       Ulladulla      AU      78.8 -35.35  150.47   \n",
       "\n",
       "      Current Weather                               Hotel Name  \n",
       "109  scattered clouds                    Rydges Port Macquarie  \n",
       "49    overcast clouds                        Mantra Nelson Bay  \n",
       "51      broken clouds  Shellharbour Resort & Conference Centre  \n",
       "121     broken clouds                          Sandpiper Motel  "
      ]
     },
     "execution_count": 3,
     "metadata": {},
     "output_type": "execute_result"
    }
   ],
   "source": [
    "#Filter the DataFrame for each city you want to go to and create separate DataFrames for each city\n",
    "#cities =[\"Port Macquarie\", \"Nelson Bay\", \"Flinders\", \"Ulladulla\"]\n",
    "\n",
    "port_macquarie = travel_data_df.loc[(travel_data_df[\"City\"] == \"Port Macquarie\")]\n",
    "nelson_bay = travel_data_df.loc[(travel_data_df[\"City\"] == \"Nelson Bay\")]\n",
    "flinders = travel_data_df.loc[(travel_data_df[\"City\"] == \"Flinders\")]\n",
    "ulladulla =travel_data_df.loc[(travel_data_df[\"City\"] == \"Ulladulla\")]\n",
    "\n",
    "#Create dataframe for requested cities\n",
    "frames = [port_macquarie, nelson_bay, flinders, ulladulla]\n",
    "cities = pd.concat(frames)\n",
    "cities\n"
   ]
  },
  {
   "cell_type": "code",
   "execution_count": 4,
   "metadata": {},
   "outputs": [
    {
     "data": {
      "text/plain": [
       "[(-31.43, 152.92), (-32.72, 152.15), (-34.58, 150.86), (-35.35, 150.47)]"
      ]
     },
     "execution_count": 4,
     "metadata": {},
     "output_type": "execute_result"
    }
   ],
   "source": [
    "#get Lat-Lng pairs\n",
    "cities_lat = cities[\"Lat\"]\n",
    "cities_lng = cities[\"Lng\"]\n",
    "cities_coord = list(zip(cities_lat, cities_lng))\n",
    "cities_coord"
   ]
  },
  {
   "cell_type": "code",
   "execution_count": 15,
   "metadata": {},
   "outputs": [
    {
     "data": {
      "application/vnd.jupyter.widget-view+json": {
       "model_id": "5c2c281ffae3417d861297ea5098097f",
       "version_major": 2,
       "version_minor": 0
      },
      "text/plain": [
       "Figure(layout=FigureLayout(height='420px'))"
      ]
     },
     "metadata": {},
     "output_type": "display_data"
    }
   ],
   "source": [
    "#get directions layer map.\n",
    "fig = gmaps.figure()\n",
    "way = gmaps.directions_layer(\n",
    "        cities_coord[0], cities_coord[3], waypoints=[cities_coord[1], cities_coord[2]],\n",
    "        travel_mode='DRIVING')\n",
    "fig.add_layer(way)\n",
    "fig"
   ]
  },
  {
   "cell_type": "code",
   "execution_count": 18,
   "metadata": {},
   "outputs": [],
   "source": [
    "# create pop-up markers\n",
    "info_box_template = \"\"\"\n",
    "<dl>\n",
    "<dt>Hotel Name</dt><dd>{Hotel Name}</dd>\n",
    "<dt>City</dt><dd>{City}</dd>\n",
    "<dt>Country</dt><dd>{Country}</dd>\n",
    "<dt>Current Weather</dt><dd>{Current Weather} </dd>\n",
    "</dl>\n",
    "\"\"\"\n",
    "\n",
    "# Store the DataFrame Row.\n",
    "hotels_info = [info_box_template.format(**row) for index, row in cities.iterrows()]\n"
   ]
  },
  {
   "cell_type": "code",
   "execution_count": 17,
   "metadata": {},
   "outputs": [
    {
     "data": {
      "application/vnd.jupyter.widget-view+json": {
       "model_id": "360cac26599c492e90c9811e4fe91bd1",
       "version_major": 2,
       "version_minor": 0
      },
      "text/plain": [
       "Figure(layout=FigureLayout(height='420px'))"
      ]
     },
     "metadata": {},
     "output_type": "display_data"
    }
   ],
   "source": [
    "#fig = gmaps.figure()\n",
    "#way = gmaps.directions_layer(\n",
    "#        cities_coord[0], cities_coord[3], waypoints=[cities_coord[1], cities_coord[2]],\n",
    "#        travel_mode='DRIVING')\n",
    "marker_layer = gmaps.marker_layer(cities_coord, info_box_content=hotels_info)\n",
    "fig = gmaps.figure()\n",
    "#fig.add_layer(way)\n",
    "fig.add_layer(marker_layer)\n",
    "fig"
   ]
  },
  {
   "cell_type": "code",
   "execution_count": null,
   "metadata": {},
   "outputs": [],
   "source": []
  }
 ],
 "metadata": {
  "kernelspec": {
   "display_name": "PythonData",
   "language": "python",
   "name": "pythondata"
  },
  "language_info": {
   "codemirror_mode": {
    "name": "ipython",
    "version": 3
   },
   "file_extension": ".py",
   "mimetype": "text/x-python",
   "name": "python",
   "nbconvert_exporter": "python",
   "pygments_lexer": "ipython3",
   "version": "3.7.6"
  }
 },
 "nbformat": 4,
 "nbformat_minor": 4
}
